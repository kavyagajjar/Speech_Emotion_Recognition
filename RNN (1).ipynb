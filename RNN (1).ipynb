{
 "cells": [
  {
   "cell_type": "code",
   "execution_count": 1,
   "metadata": {
    "tags": []
   },
   "outputs": [],
   "source": [
    "import numpy as np # linear algebra\n",
    "import pandas as pd # data processing, CSV file I/O (e.g. pd.read_csv)\n",
    "import librosa\n",
    "import os\n",
    "import IPython.display as ipd \n",
    "\n",
    "%matplotlib inline\n",
    "import matplotlib.pyplot as plt\n",
    "import librosa.display\n",
    "from IPython.display import Audio\n"
   ]
  },
  {
   "cell_type": "code",
   "execution_count": 2,
   "metadata": {
    "_cell_guid": "b1076dfc-b9ad-4769-8c92-a6c4dae69d19",
    "_uuid": "8f2839f25d086af736a60e9eeb907d3b93b6e0e5",
    "tags": []
   },
   "outputs": [
    {
     "data": {
      "text/html": [
       "<div>\n",
       "<style scoped>\n",
       "    .dataframe tbody tr th:only-of-type {\n",
       "        vertical-align: middle;\n",
       "    }\n",
       "\n",
       "    .dataframe tbody tr th {\n",
       "        vertical-align: top;\n",
       "    }\n",
       "\n",
       "    .dataframe thead th {\n",
       "        text-align: right;\n",
       "    }\n",
       "</style>\n",
       "<table border=\"1\" class=\"dataframe\">\n",
       "  <thead>\n",
       "    <tr style=\"text-align: right;\">\n",
       "      <th></th>\n",
       "      <th>Emotion</th>\n",
       "      <th>Emotion_intensity</th>\n",
       "      <th>Actor_no</th>\n",
       "      <th>File</th>\n",
       "    </tr>\n",
       "  </thead>\n",
       "  <tbody>\n",
       "    <tr>\n",
       "      <th>0</th>\n",
       "      <td>07</td>\n",
       "      <td>02</td>\n",
       "      <td>16</td>\n",
       "      <td>../project/data/Actor_16/03-01-07-02-02-01-16.wav</td>\n",
       "    </tr>\n",
       "    <tr>\n",
       "      <th>1</th>\n",
       "      <td>08</td>\n",
       "      <td>01</td>\n",
       "      <td>16</td>\n",
       "      <td>../project/data/Actor_16/03-01-08-01-02-02-16.wav</td>\n",
       "    </tr>\n",
       "    <tr>\n",
       "      <th>2</th>\n",
       "      <td>06</td>\n",
       "      <td>01</td>\n",
       "      <td>16</td>\n",
       "      <td>../project/data/Actor_16/03-01-06-01-01-02-16.wav</td>\n",
       "    </tr>\n",
       "    <tr>\n",
       "      <th>3</th>\n",
       "      <td>03</td>\n",
       "      <td>02</td>\n",
       "      <td>16</td>\n",
       "      <td>../project/data/Actor_16/03-01-03-02-02-01-16.wav</td>\n",
       "    </tr>\n",
       "    <tr>\n",
       "      <th>4</th>\n",
       "      <td>02</td>\n",
       "      <td>01</td>\n",
       "      <td>16</td>\n",
       "      <td>../project/data/Actor_16/03-01-02-01-01-01-16.wav</td>\n",
       "    </tr>\n",
       "  </tbody>\n",
       "</table>\n",
       "</div>"
      ],
      "text/plain": [
       "  Emotion Emotion_intensity Actor_no  \\\n",
       "0      07                02       16   \n",
       "1      08                01       16   \n",
       "2      06                01       16   \n",
       "3      03                02       16   \n",
       "4      02                01       16   \n",
       "\n",
       "                                                File  \n",
       "0  ../project/data/Actor_16/03-01-07-02-02-01-16.wav  \n",
       "1  ../project/data/Actor_16/03-01-08-01-02-02-16.wav  \n",
       "2  ../project/data/Actor_16/03-01-06-01-01-02-16.wav  \n",
       "3  ../project/data/Actor_16/03-01-03-02-02-01-16.wav  \n",
       "4  ../project/data/Actor_16/03-01-02-01-01-01-16.wav  "
      ]
     },
     "execution_count": 2,
     "metadata": {},
     "output_type": "execute_result"
    }
   ],
   "source": [
    "data = pd.DataFrame(columns = ['Emotion','Emotion_intensity','Actor_no','File'])\n",
    "for dirname, _, filenames in os.walk('../project/data'):\n",
    "    for filename in filenames:\n",
    "        data = data.append({'Emotion':filename[6:8],'Emotion_intensity': filename[9:11], 'Actor_no':filename[-6:-4]\n",
    "                            ,'File':os.path.join(dirname, filename)}, ignore_index= True)\n",
    "\n",
    "data.head()"
   ]
  },
  {
   "cell_type": "code",
   "execution_count": 3,
   "metadata": {
    "tags": []
   },
   "outputs": [],
   "source": [
    "# 01 = neutral, 02 = calm, 03 = happy, 04 = sad, 05 = angry, 06 = fearful, 07 = disgust, 08 = surprised\n",
    "def convert_labels(x):\n",
    "    if x == '01':\n",
    "        return 'neutral'\n",
    "    elif x == '02':\n",
    "        return 'calm'\n",
    "    elif x == '03':\n",
    "        return 'happy'\n",
    "    elif x == '04':\n",
    "        return 'sad'\n",
    "    elif x == '05':\n",
    "        return 'angry'\n",
    "    elif x == '06':\n",
    "        return 'fearful'\n",
    "    elif x == '07':\n",
    "        return 'disgust'\n",
    "    elif x == '08':\n",
    "        return 'surprised'\n",
    "    \n",
    "def convert_emotion_intensity(x):\n",
    "    if x == '01':\n",
    "        return 'Normal'\n",
    "    elif x == '02':\n",
    "        return 'Strong'\n",
    "\n",
    "data['Emotion_intensity'] = data.apply(lambda x: convert_emotion_intensity(x['Emotion_intensity']), axis =1)    \n",
    "data['Emotion'] = data.apply(lambda x: convert_labels(x['Emotion']), axis = 1)"
   ]
  },
  {
   "cell_type": "code",
   "execution_count": 4,
   "metadata": {
    "tags": []
   },
   "outputs": [],
   "source": [
    "def gender(x):\n",
    "    x = int(x)\n",
    "    if x %2 ==0:\n",
    "        return 'Female'\n",
    "    else:\n",
    "        return 'Male'\n",
    "    \n",
    "data['Gender'] = data.apply(lambda x: gender(x['Actor_no']), axis =1)"
   ]
  },
  {
   "cell_type": "code",
   "execution_count": 5,
   "metadata": {
    "tags": []
   },
   "outputs": [
    {
     "data": {
      "text/html": [
       "<div>\n",
       "<style scoped>\n",
       "    .dataframe tbody tr th:only-of-type {\n",
       "        vertical-align: middle;\n",
       "    }\n",
       "\n",
       "    .dataframe tbody tr th {\n",
       "        vertical-align: top;\n",
       "    }\n",
       "\n",
       "    .dataframe thead th {\n",
       "        text-align: right;\n",
       "    }\n",
       "</style>\n",
       "<table border=\"1\" class=\"dataframe\">\n",
       "  <thead>\n",
       "    <tr style=\"text-align: right;\">\n",
       "      <th></th>\n",
       "      <th>Emotion</th>\n",
       "      <th>Emotion_intensity</th>\n",
       "      <th>Actor_no</th>\n",
       "      <th>File</th>\n",
       "      <th>Gender</th>\n",
       "    </tr>\n",
       "  </thead>\n",
       "  <tbody>\n",
       "    <tr>\n",
       "      <th>0</th>\n",
       "      <td>disgust</td>\n",
       "      <td>Strong</td>\n",
       "      <td>16</td>\n",
       "      <td>../project/data/Actor_16/03-01-07-02-02-01-16.wav</td>\n",
       "      <td>Female</td>\n",
       "    </tr>\n",
       "    <tr>\n",
       "      <th>1</th>\n",
       "      <td>surprised</td>\n",
       "      <td>Normal</td>\n",
       "      <td>16</td>\n",
       "      <td>../project/data/Actor_16/03-01-08-01-02-02-16.wav</td>\n",
       "      <td>Female</td>\n",
       "    </tr>\n",
       "    <tr>\n",
       "      <th>2</th>\n",
       "      <td>fearful</td>\n",
       "      <td>Normal</td>\n",
       "      <td>16</td>\n",
       "      <td>../project/data/Actor_16/03-01-06-01-01-02-16.wav</td>\n",
       "      <td>Female</td>\n",
       "    </tr>\n",
       "    <tr>\n",
       "      <th>3</th>\n",
       "      <td>happy</td>\n",
       "      <td>Strong</td>\n",
       "      <td>16</td>\n",
       "      <td>../project/data/Actor_16/03-01-03-02-02-01-16.wav</td>\n",
       "      <td>Female</td>\n",
       "    </tr>\n",
       "    <tr>\n",
       "      <th>4</th>\n",
       "      <td>calm</td>\n",
       "      <td>Normal</td>\n",
       "      <td>16</td>\n",
       "      <td>../project/data/Actor_16/03-01-02-01-01-01-16.wav</td>\n",
       "      <td>Female</td>\n",
       "    </tr>\n",
       "  </tbody>\n",
       "</table>\n",
       "</div>"
      ],
      "text/plain": [
       "     Emotion Emotion_intensity Actor_no  \\\n",
       "0    disgust            Strong       16   \n",
       "1  surprised            Normal       16   \n",
       "2    fearful            Normal       16   \n",
       "3      happy            Strong       16   \n",
       "4       calm            Normal       16   \n",
       "\n",
       "                                                File  Gender  \n",
       "0  ../project/data/Actor_16/03-01-07-02-02-01-16.wav  Female  \n",
       "1  ../project/data/Actor_16/03-01-08-01-02-02-16.wav  Female  \n",
       "2  ../project/data/Actor_16/03-01-06-01-01-02-16.wav  Female  \n",
       "3  ../project/data/Actor_16/03-01-03-02-02-01-16.wav  Female  \n",
       "4  ../project/data/Actor_16/03-01-02-01-01-01-16.wav  Female  "
      ]
     },
     "execution_count": 5,
     "metadata": {},
     "output_type": "execute_result"
    }
   ],
   "source": [
    "data.head()"
   ]
  },
  {
   "cell_type": "code",
   "execution_count": 6,
   "metadata": {
    "tags": []
   },
   "outputs": [
    {
     "data": {
      "text/plain": [
       "surprised    384\n",
       "angry        384\n",
       "happy        384\n",
       "calm         384\n",
       "sad          384\n",
       "fearful      384\n",
       "disgust      384\n",
       "neutral      192\n",
       "Name: Emotion, dtype: int64"
      ]
     },
     "execution_count": 6,
     "metadata": {},
     "output_type": "execute_result"
    }
   ],
   "source": [
    "data.Emotion.value_counts()"
   ]
  },
  {
   "cell_type": "code",
   "execution_count": 7,
   "metadata": {
    "tags": []
   },
   "outputs": [
    {
     "data": {
      "text/plain": [
       "Normal    1536\n",
       "Strong    1344\n",
       "Name: Emotion_intensity, dtype: int64"
      ]
     },
     "execution_count": 7,
     "metadata": {},
     "output_type": "execute_result"
    }
   ],
   "source": [
    "data.Emotion_intensity.value_counts()"
   ]
  },
  {
   "cell_type": "code",
   "execution_count": 9,
   "metadata": {
    "tags": []
   },
   "outputs": [
    {
     "data": {
      "text/plain": [
       "Female    1440\n",
       "Male      1440\n",
       "Name: Gender, dtype: int64"
      ]
     },
     "execution_count": 9,
     "metadata": {},
     "output_type": "execute_result"
    }
   ],
   "source": [
    "data.Gender.value_counts()"
   ]
  },
  {
   "cell_type": "code",
   "execution_count": 10,
   "metadata": {
    "tags": []
   },
   "outputs": [],
   "source": [
    "def noise(data):\n",
    "    noise_amp = 0.035*np.random.uniform()*np.amax(data)\n",
    "    data = data + noise_amp*np.random.normal(size=data.shape[0])\n",
    "    return data\n",
    "# STRETCH\n",
    "def stretch(data, rate=0.8):\n",
    "    return librosa.effects.time_stretch(data, rate)\n",
    "# SHIFT\n",
    "def shift(data):\n",
    "    shift_range = int(np.random.uniform(low=-5, high = 5)*1000)\n",
    "    return np.roll(data, shift_range)\n",
    "# PITCH\n",
    "def pitch(data, sampling_rate, pitch_factor=0.7):\n",
    "    return librosa.effects.pitch_shift(data, sampling_rate, pitch_factor)"
   ]
  },
  {
   "cell_type": "code",
   "execution_count": 11,
   "metadata": {},
   "outputs": [],
   "source": [
    "\n",
    "labels = {'neutral':1, 'calm':2, 'happy': 3, 'sad':4, 'angry':5, 'fearful':6, 'disgust':7, 'surprised':8}\n",
    "data.replace({'Emotion':labels},inplace=True)\n",
    "\n",
    "def get_mfcc(audio_data, sr):\n",
    "    mfccs = librosa.feature.mfcc(audio_data, sr=sr)\n",
    "    return mfccs.T\n",
    "\n",
    "def feature_extract_with_augmentation(index):\n",
    "    final_data = []\n",
    "    target = []\n",
    "    audio_data, sr = librosa.load(data.File[index])\n",
    "    \n",
    "    final_data.append(get_mfcc(audio_data, sr))\n",
    "    target.append(data.Emotion[index])\n",
    "    \n",
    "    # augmentation\n",
    "    # Noise\n",
    "    new = noise(audio_data)\n",
    "    final_data.append(get_mfcc(new, sr))\n",
    "    target.append(data.Emotion[index])\n",
    "    \n",
    "    # stretch\n",
    "    new = stretch(audio_data)\n",
    "    final_data.append(get_mfcc(new, sr))\n",
    "    target.append(data.Emotion[index])\n",
    "    \n",
    "    # shift\n",
    "    new = shift(audio_data)\n",
    "    final_data.append(get_mfcc(new, sr))\n",
    "    target.append(data.Emotion[index])\n",
    "    \n",
    "    # pitch\n",
    "    new =pitch(audio_data, sr)\n",
    "    final_data.append(get_mfcc(new, sr))\n",
    "    target.append(data.Emotion[index])\n",
    "    \n",
    "    return final_data, target"
   ]
  },
  {
   "cell_type": "code",
   "execution_count": 12,
   "metadata": {},
   "outputs": [
    {
     "name": "stdout",
     "output_type": "stream",
     "text": [
      "0\n",
      "100\n",
      "200\n",
      "300\n",
      "400\n",
      "500\n",
      "600\n",
      "700\n",
      "800\n",
      "900\n",
      "1000\n",
      "1100\n",
      "1200\n",
      "1300\n",
      "1400\n",
      "1500\n",
      "1600\n",
      "1700\n",
      "1800\n",
      "1900\n",
      "2000\n",
      "2100\n",
      "2200\n",
      "2300\n",
      "2400\n",
      "2500\n",
      "2600\n",
      "2700\n",
      "2800\n",
      "CPU times: user 54min 1s, sys: 55min 21s, total: 1h 49min 23s\n",
      "Wall time: 38min 14s\n"
     ]
    }
   ],
   "source": [
    "%%time\n",
    "mfcc = []\n",
    "y = []\n",
    "for i in range(len(data)):\n",
    "    final, target = feature_extract_with_augmentation(i)\n",
    "    for j in range(len(target)):\n",
    "        mfcc.append(final[j])\n",
    "        y.append(target[j])\n",
    "    if i% 100 == 0:\n",
    "        print(i)\n",
    "    "
   ]
  },
  {
   "cell_type": "code",
   "execution_count": 13,
   "metadata": {
    "tags": []
   },
   "outputs": [
    {
     "name": "stderr",
     "output_type": "stream",
     "text": [
      "/home/gajjar.ka/.conda/envs/ds5230/lib/python3.7/site-packages/numpy/core/_asarray.py:83: VisibleDeprecationWarning: Creating an ndarray from ragged nested sequences (which is a list-or-tuple of lists-or-tuples-or ndarrays with different lengths or shapes) is deprecated. If you meant to do this, you must specify 'dtype=object' when creating the ndarray\n",
      "  return array(a, dtype, copy=False, order=order)\n"
     ]
    }
   ],
   "source": [
    "X = np.asarray(mfcc)\n",
    "y = np.asarray(y)\n"
   ]
  },
  {
   "cell_type": "code",
   "execution_count": 14,
   "metadata": {
    "tags": []
   },
   "outputs": [],
   "source": [
    "import tensorflow as tf\n",
    "from tensorflow.keras.callbacks import ReduceLROnPlateau\n",
    "from tensorflow.keras.models import Sequential\n",
    "from tensorflow.keras.layers import Dense, LSTM, Flatten, Dropout, BatchNormalization\n",
    "from tensorflow.keras.callbacks import ModelCheckpoint\n",
    "\n",
    "import numpy as np\n",
    "import warnings \n",
    "\n",
    "from sklearn.preprocessing import StandardScaler, OneHotEncoder\n",
    "from sklearn.metrics import confusion_matrix, classification_report\n",
    "from sklearn.model_selection import train_test_split"
   ]
  },
  {
   "cell_type": "code",
   "execution_count": 15,
   "metadata": {
    "tags": []
   },
   "outputs": [
    {
     "data": {
      "text/plain": [
       "(14400, 284, 20)"
      ]
     },
     "execution_count": 15,
     "metadata": {},
     "output_type": "execute_result"
    }
   ],
   "source": [
    "X = tf.keras.preprocessing.sequence.pad_sequences(X)\n",
    "X.shape"
   ]
  },
  {
   "cell_type": "code",
   "execution_count": 16,
   "metadata": {
    "tags": []
   },
   "outputs": [],
   "source": [
    "X_train, X_test, y_train, y_test = train_test_split(X, y, test_size=0.1, random_state = 42)\n",
    "X_train, X_validation, y_train, y_validation = train_test_split(X_train, y_train, test_size=0.2, random_state =42)"
   ]
  },
  {
   "cell_type": "code",
   "execution_count": 17,
   "metadata": {},
   "outputs": [],
   "source": [
    "def build_model(input_shape):\n",
    "    model = tf.keras.Sequential()\n",
    "\n",
    "    model.add(LSTM(128, input_shape=input_shape, return_sequences=True))\n",
    "    model.add(LSTM(64))\n",
    "    \n",
    "    model.add(Dense(64, activation='relu'))\n",
    "    model.add(Dense(32, activation='relu'))\n",
    "    model.add(Dense(16, activation='relu'))\n",
    "    model.add(Dropout(0.3))\n",
    "\n",
    "    model.add(Dense(9, activation='softmax'))\n",
    "\n",
    "    return model"
   ]
  },
  {
   "cell_type": "code",
   "execution_count": 18,
   "metadata": {},
   "outputs": [
    {
     "name": "stdout",
     "output_type": "stream",
     "text": [
      "Model: \"sequential\"\n",
      "_________________________________________________________________\n",
      "Layer (type)                 Output Shape              Param #   \n",
      "=================================================================\n",
      "lstm (LSTM)                  (None, None, 128)         76288     \n",
      "_________________________________________________________________\n",
      "lstm_1 (LSTM)                (None, 64)                49408     \n",
      "_________________________________________________________________\n",
      "dense (Dense)                (None, 64)                4160      \n",
      "_________________________________________________________________\n",
      "dense_1 (Dense)              (None, 32)                2080      \n",
      "_________________________________________________________________\n",
      "dense_2 (Dense)              (None, 16)                528       \n",
      "_________________________________________________________________\n",
      "dropout (Dropout)            (None, 16)                0         \n",
      "_________________________________________________________________\n",
      "dense_3 (Dense)              (None, 9)                 153       \n",
      "=================================================================\n",
      "Total params: 132,617\n",
      "Trainable params: 132,617\n",
      "Non-trainable params: 0\n",
      "_________________________________________________________________\n"
     ]
    }
   ],
   "source": [
    "input_shape = (None,20)\n",
    "model = build_model(input_shape)\n",
    "\n",
    "# compile model\n",
    "optimiser = tf.keras.optimizers.Adam(learning_rate=0.001)\n",
    "model.compile(optimizer=optimiser,\n",
    "                  loss='sparse_categorical_crossentropy',\n",
    "                  metrics=['accuracy'])\n",
    "\n",
    "model.summary()"
   ]
  },
  {
   "cell_type": "code",
   "execution_count": 19,
   "metadata": {
    "tags": []
   },
   "outputs": [
    {
     "name": "stdout",
     "output_type": "stream",
     "text": [
      "Epoch 1/30\n",
      "324/324 [==============================] - 117s 348ms/step - loss: 1.8969 - accuracy: 0.2618 - val_loss: 1.7358 - val_accuracy: 0.3287\n",
      "Epoch 2/30\n",
      "324/324 [==============================] - 111s 343ms/step - loss: 1.7144 - accuracy: 0.3288 - val_loss: 1.6653 - val_accuracy: 0.3372\n",
      "Epoch 3/30\n",
      "324/324 [==============================] - 110s 339ms/step - loss: 1.6256 - accuracy: 0.3636 - val_loss: 1.5761 - val_accuracy: 0.4070\n",
      "Epoch 4/30\n",
      "324/324 [==============================] - 96s 296ms/step - loss: 1.5670 - accuracy: 0.3867 - val_loss: 1.4786 - val_accuracy: 0.4367\n",
      "Epoch 5/30\n",
      "324/324 [==============================] - 77s 237ms/step - loss: 1.4947 - accuracy: 0.4280 - val_loss: 1.4147 - val_accuracy: 0.4726\n",
      "Epoch 6/30\n",
      "324/324 [==============================] - 77s 238ms/step - loss: 1.4024 - accuracy: 0.4668 - val_loss: 1.2753 - val_accuracy: 0.5324\n",
      "Epoch 7/30\n",
      "324/324 [==============================] - 77s 238ms/step - loss: 1.2998 - accuracy: 0.5062 - val_loss: 1.2784 - val_accuracy: 0.5073\n",
      "Epoch 8/30\n",
      "324/324 [==============================] - 77s 237ms/step - loss: 1.2235 - accuracy: 0.5355 - val_loss: 1.1105 - val_accuracy: 0.5810\n",
      "Epoch 9/30\n",
      "324/324 [==============================] - 77s 238ms/step - loss: 1.1121 - accuracy: 0.5745 - val_loss: 0.9718 - val_accuracy: 0.6196\n",
      "Epoch 10/30\n",
      "324/324 [==============================] - 77s 237ms/step - loss: 1.0024 - accuracy: 0.6105 - val_loss: 0.9448 - val_accuracy: 0.6400\n",
      "Epoch 11/30\n",
      "324/324 [==============================] - 77s 237ms/step - loss: 0.9447 - accuracy: 0.6352 - val_loss: 0.8982 - val_accuracy: 0.6640\n",
      "Epoch 12/30\n",
      "324/324 [==============================] - 77s 238ms/step - loss: 0.9044 - accuracy: 0.6549 - val_loss: 0.8249 - val_accuracy: 0.6852\n",
      "Epoch 13/30\n",
      "324/324 [==============================] - 79s 244ms/step - loss: 0.8327 - accuracy: 0.6849 - val_loss: 0.8614 - val_accuracy: 0.6759\n",
      "Epoch 14/30\n",
      "324/324 [==============================] - 77s 238ms/step - loss: 0.7561 - accuracy: 0.7130 - val_loss: 0.7170 - val_accuracy: 0.7357\n",
      "Epoch 15/30\n",
      "324/324 [==============================] - 77s 238ms/step - loss: 0.7056 - accuracy: 0.7328 - val_loss: 0.7084 - val_accuracy: 0.7404\n",
      "Epoch 16/30\n",
      "324/324 [==============================] - 77s 237ms/step - loss: 0.6558 - accuracy: 0.7586 - val_loss: 0.5952 - val_accuracy: 0.7650\n",
      "Epoch 17/30\n",
      "324/324 [==============================] - 77s 237ms/step - loss: 0.6256 - accuracy: 0.7738 - val_loss: 0.6453 - val_accuracy: 0.7477\n",
      "Epoch 18/30\n",
      "324/324 [==============================] - 77s 237ms/step - loss: 0.5632 - accuracy: 0.7942 - val_loss: 0.5871 - val_accuracy: 0.7843\n",
      "Epoch 19/30\n",
      "324/324 [==============================] - 77s 237ms/step - loss: 0.5517 - accuracy: 0.8034 - val_loss: 0.5714 - val_accuracy: 0.8029\n",
      "Epoch 20/30\n",
      "324/324 [==============================] - 77s 238ms/step - loss: 0.4894 - accuracy: 0.8283 - val_loss: 0.5035 - val_accuracy: 0.8322\n",
      "Epoch 21/30\n",
      "324/324 [==============================] - 77s 238ms/step - loss: 0.4496 - accuracy: 0.8413 - val_loss: 0.4364 - val_accuracy: 0.8472\n",
      "Epoch 22/30\n",
      "324/324 [==============================] - 77s 238ms/step - loss: 0.4249 - accuracy: 0.8514 - val_loss: 0.4916 - val_accuracy: 0.8360\n",
      "Epoch 23/30\n",
      "324/324 [==============================] - 77s 238ms/step - loss: 0.3850 - accuracy: 0.8650 - val_loss: 0.3691 - val_accuracy: 0.8800\n",
      "Epoch 24/30\n",
      "324/324 [==============================] - 77s 237ms/step - loss: 0.3591 - accuracy: 0.8778 - val_loss: 0.3075 - val_accuracy: 0.8981\n",
      "Epoch 25/30\n",
      "324/324 [==============================] - 77s 237ms/step - loss: 0.3606 - accuracy: 0.8806 - val_loss: 0.4052 - val_accuracy: 0.8692\n",
      "Epoch 26/30\n",
      "324/324 [==============================] - 77s 237ms/step - loss: 0.3437 - accuracy: 0.8875 - val_loss: 0.6341 - val_accuracy: 0.8156\n",
      "Epoch 27/30\n",
      "324/324 [==============================] - 77s 238ms/step - loss: 0.3461 - accuracy: 0.8844 - val_loss: 0.2970 - val_accuracy: 0.9001\n",
      "Epoch 28/30\n",
      "324/324 [==============================] - 77s 238ms/step - loss: 0.3098 - accuracy: 0.8989 - val_loss: 0.2783 - val_accuracy: 0.9201\n",
      "Epoch 29/30\n",
      "324/324 [==============================] - 77s 238ms/step - loss: 0.2743 - accuracy: 0.9095 - val_loss: 0.2687 - val_accuracy: 0.9109\n",
      "Epoch 30/30\n",
      "324/324 [==============================] - 77s 238ms/step - loss: 0.2301 - accuracy: 0.9268 - val_loss: 0.2687 - val_accuracy: 0.9221\n",
      "CPU times: user 2h 12min 29s, sys: 22min 48s, total: 2h 35min 18s\n",
      "Wall time: 40min 36s\n"
     ]
    }
   ],
   "source": [
    "%%time\n",
    "callback = tf.keras.callbacks.EarlyStopping(monitor='val_accuracy', patience=3)\n",
    "history = model.fit(X_train, y_train, validation_data=(X_validation, y_validation), batch_size=32, epochs=30,\n",
    "                  callbacks = [callback])"
   ]
  },
  {
   "cell_type": "code",
   "execution_count": 20,
   "metadata": {
    "tags": []
   },
   "outputs": [
    {
     "name": "stdout",
     "output_type": "stream",
     "text": [
      "Test Accuracy:  0.925000011920929\n"
     ]
    }
   ],
   "source": [
    "test_loss, test_acc = model.evaluate(X_test, y_test, verbose=0)\n",
    "print(\"Test Accuracy: \",test_acc)"
   ]
  },
  {
   "cell_type": "code",
   "execution_count": 21,
   "metadata": {},
   "outputs": [
    {
     "data": {
      "image/png": "[encoded data removed]",
      "text/plain": [
       "<Figure size 432x288 with 1 Axes>"
      ]
     },
     "metadata": {
      "needs_background": "light"
     },
     "output_type": "display_data"
    }
   ],
   "source": [
    "# Plot history: MAE\n",
    "plt.plot(history.history['accuracy'], label='Accuracy (training data)')\n",
    "plt.plot(history.history['val_accuracy'], label='Accuracy (validation data)')\n",
    "plt.title('Acccuracy')\n",
    "plt.ylabel('Acccuracy value')\n",
    "plt.xlabel('No. epoch')\n",
    "plt.legend()\n",
    "plt.show()"
   ]
  },
  {
   "cell_type": "code",
   "execution_count": 22,
   "metadata": {},
   "outputs": [],
   "source": [
    "y_pred = model.predict(X_test)\n",
    "y_pred = np.argmax(y_pred, axis=1)"
   ]
  },
  {
   "cell_type": "code",
   "execution_count": 23,
   "metadata": {},
   "outputs": [
    {
     "data": {
      "text/plain": [
       "Text(91.68, 0.5, 'predicted label')"
      ]
     },
     "execution_count": 23,
     "metadata": {},
     "output_type": "execute_result"
    },
    {
     "data": {
      "image/png": "[encoded data removed]",
      "text/plain": [
       "<Figure size 432x288 with 1 Axes>"
      ]
     },
     "metadata": {
      "needs_background": "light"
     },
     "output_type": "display_data"
    }
   ],
   "source": [
    "\n",
    "from sklearn import metrics\n",
    "from sklearn.metrics import confusion_matrix\n",
    "import seaborn as sns\n",
    "\n",
    "classes = ['neutral','calm','happy','sad','angry','fearful','disgust','surprised']\n",
    "\n",
    "x = metrics.confusion_matrix(y_test, y_pred)\n",
    "\n",
    "sns.heatmap(x,square=True, annot=True, fmt='d', cbar=False,\n",
    "           xticklabels = classes,\n",
    "            yticklabels = classes\n",
    "           )\n",
    "plt.xlabel('true label')\n",
    "plt.ylabel('predicted label')"
   ]
  },
  {
   "cell_type": "markdown",
   "metadata": {},
   "source": [
    "### CNN model"
   ]
  },
  {
   "cell_type": "code",
   "execution_count": 24,
   "metadata": {},
   "outputs": [],
   "source": [
    "X = X.reshape((X.shape[0],X.shape[1], X.shape[2], 1))\n",
    "X_train, X_test, y_train, y_test = train_test_split(X, y, test_size=0.1, random_state = 42)\n",
    "X_train, X_validation, y_train, y_validation = train_test_split(X_train, y_train, test_size=0.2, random_state =42)"
   ]
  },
  {
   "cell_type": "code",
   "execution_count": 25,
   "metadata": {},
   "outputs": [],
   "source": [
    "## CNN model\n",
    "from keras.preprocessing.image import ImageDataGenerator\n",
    "from keras.models import Sequential\n",
    "from keras.layers import Conv2D, MaxPooling2D\n",
    "from keras.layers import Activation, Dropout, Flatten, Dense\n",
    "from keras import backend as K\n",
    "\n",
    "def get_2d_conv_model(inputs):\n",
    "    ''' Create a standard deep 2D convolutional neural network'''\n",
    "    \n",
    "    model = Sequential()\n",
    "    model.add(Conv2D(32, (3, 3), activation='relu', input_shape = inputs))\n",
    "    model.add(MaxPooling2D((2, 2)))\n",
    "    model.add(Conv2D(64, (3, 3), activation='relu'))\n",
    "    model.add(MaxPooling2D((2, 2)))\n",
    "    model.add(Conv2D(64, (3, 3), activation='relu'))\n",
    "    model.add(Flatten())\n",
    "    # Full connection\n",
    "    model.add(Dense(units = 256, activation = 'relu'))\n",
    "    # Add Dropout to prevent overfitting\n",
    "    model.add(Dropout(0.5))\n",
    "    model.add(Dense(units = 128, activation = 'relu'))\n",
    "    model.add(Dropout(0.3))\n",
    "    model.add(Dense(units = 64, activation = 'relu'))\n",
    "    \n",
    "    model.add(Dense(units = 9, activation = 'softmax'))\n",
    "    # Compiling the CNN\n",
    "    \n",
    "    model.compile(optimizer = 'adam', loss = 'sparse_categorical_crossentropy', metrics = ['accuracy'])\n",
    "    return model"
   ]
  },
  {
   "cell_type": "code",
   "execution_count": 26,
   "metadata": {},
   "outputs": [
    {
     "name": "stdout",
     "output_type": "stream",
     "text": [
      "Model: \"sequential\"\n",
      "_________________________________________________________________\n",
      "Layer (type)                 Output Shape              Param #   \n",
      "=================================================================\n",
      "conv2d (Conv2D)              (None, 282, 18, 32)       320       \n",
      "_________________________________________________________________\n",
      "max_pooling2d (MaxPooling2D) (None, 141, 9, 32)        0         \n",
      "_________________________________________________________________\n",
      "conv2d_1 (Conv2D)            (None, 139, 7, 64)        18496     \n",
      "_________________________________________________________________\n",
      "max_pooling2d_1 (MaxPooling2 (None, 69, 3, 64)         0         \n",
      "_________________________________________________________________\n",
      "conv2d_2 (Conv2D)            (None, 67, 1, 64)         36928     \n",
      "_________________________________________________________________\n",
      "flatten (Flatten)            (None, 4288)              0         \n",
      "_________________________________________________________________\n",
      "dense (Dense)                (None, 256)               1097984   \n",
      "_________________________________________________________________\n",
      "dropout (Dropout)            (None, 256)               0         \n",
      "_________________________________________________________________\n",
      "dense_1 (Dense)              (None, 128)               32896     \n",
      "_________________________________________________________________\n",
      "dropout_1 (Dropout)          (None, 128)               0         \n",
      "_________________________________________________________________\n",
      "dense_2 (Dense)              (None, 64)                8256      \n",
      "_________________________________________________________________\n",
      "dense_3 (Dense)              (None, 9)                 585       \n",
      "=================================================================\n",
      "Total params: 1,195,465\n",
      "Trainable params: 1,195,465\n",
      "Non-trainable params: 0\n",
      "_________________________________________________________________\n"
     ]
    }
   ],
   "source": [
    "\n",
    "model = get_2d_conv_model((X.shape[1], X.shape[2],1))\n",
    "model.summary()"
   ]
  },
  {
   "cell_type": "code",
   "execution_count": 27,
   "metadata": {},
   "outputs": [
    {
     "name": "stdout",
     "output_type": "stream",
     "text": [
      "Epoch 1/30\n",
      "324/324 [==============================] - 33s 54ms/step - loss: 2.5080 - accuracy: 0.2301 - val_loss: 1.5747 - val_accuracy: 0.4028\n",
      "Epoch 2/30\n",
      "324/324 [==============================] - 17s 52ms/step - loss: 1.5399 - accuracy: 0.4030 - val_loss: 1.2870 - val_accuracy: 0.5008\n",
      "Epoch 3/30\n",
      "324/324 [==============================] - 17s 52ms/step - loss: 1.2515 - accuracy: 0.5200 - val_loss: 1.0737 - val_accuracy: 0.6057\n",
      "Epoch 4/30\n",
      "324/324 [==============================] - 17s 52ms/step - loss: 1.0575 - accuracy: 0.6111 - val_loss: 0.9066 - val_accuracy: 0.6501\n",
      "Epoch 5/30\n",
      "324/324 [==============================] - 17s 52ms/step - loss: 0.9154 - accuracy: 0.6487 - val_loss: 0.7583 - val_accuracy: 0.7242\n",
      "Epoch 6/30\n",
      "324/324 [==============================] - 17s 52ms/step - loss: 0.7842 - accuracy: 0.7048 - val_loss: 0.6175 - val_accuracy: 0.7824\n",
      "Epoch 7/30\n",
      "324/324 [==============================] - 17s 52ms/step - loss: 0.6311 - accuracy: 0.7716 - val_loss: 0.5323 - val_accuracy: 0.8179\n",
      "Epoch 8/30\n",
      "324/324 [==============================] - 17s 52ms/step - loss: 0.5310 - accuracy: 0.8099 - val_loss: 0.4792 - val_accuracy: 0.8245\n",
      "Epoch 9/30\n",
      "324/324 [==============================] - 17s 52ms/step - loss: 0.4594 - accuracy: 0.8411 - val_loss: 0.4264 - val_accuracy: 0.8565\n",
      "Epoch 10/30\n",
      "324/324 [==============================] - 17s 52ms/step - loss: 0.3888 - accuracy: 0.8688 - val_loss: 0.3767 - val_accuracy: 0.8696\n",
      "Epoch 11/30\n",
      "324/324 [==============================] - 17s 52ms/step - loss: 0.3555 - accuracy: 0.8760 - val_loss: 0.3251 - val_accuracy: 0.8924\n",
      "Epoch 12/30\n",
      "324/324 [==============================] - 17s 52ms/step - loss: 0.2520 - accuracy: 0.9143 - val_loss: 0.3031 - val_accuracy: 0.9093\n",
      "Epoch 13/30\n",
      "324/324 [==============================] - 17s 52ms/step - loss: 0.2296 - accuracy: 0.9229 - val_loss: 0.2898 - val_accuracy: 0.9109\n",
      "Epoch 14/30\n",
      "324/324 [==============================] - 17s 52ms/step - loss: 0.2161 - accuracy: 0.9256 - val_loss: 0.2706 - val_accuracy: 0.9128\n",
      "Epoch 15/30\n",
      "324/324 [==============================] - 17s 52ms/step - loss: 0.1989 - accuracy: 0.9333 - val_loss: 0.2855 - val_accuracy: 0.9159\n",
      "Epoch 16/30\n",
      "324/324 [==============================] - 17s 53ms/step - loss: 0.1707 - accuracy: 0.9476 - val_loss: 0.2220 - val_accuracy: 0.9352\n",
      "Epoch 17/30\n",
      "324/324 [==============================] - 17s 53ms/step - loss: 0.1476 - accuracy: 0.9510 - val_loss: 0.2709 - val_accuracy: 0.9244\n",
      "Epoch 18/30\n",
      "324/324 [==============================] - 17s 54ms/step - loss: 0.1863 - accuracy: 0.9408 - val_loss: 0.2706 - val_accuracy: 0.9344\n",
      "Epoch 19/30\n",
      "324/324 [==============================] - 17s 53ms/step - loss: 0.1707 - accuracy: 0.9478 - val_loss: 0.2127 - val_accuracy: 0.9410\n",
      "Epoch 20/30\n",
      "324/324 [==============================] - 17s 53ms/step - loss: 0.1196 - accuracy: 0.9639 - val_loss: 0.2257 - val_accuracy: 0.9406\n",
      "Epoch 21/30\n",
      "324/324 [==============================] - 17s 52ms/step - loss: 0.1435 - accuracy: 0.9512 - val_loss: 0.2380 - val_accuracy: 0.9383\n",
      "Epoch 22/30\n",
      "324/324 [==============================] - 17s 52ms/step - loss: 0.1243 - accuracy: 0.9598 - val_loss: 0.2219 - val_accuracy: 0.9375\n",
      "CPU times: user 40min 44s, sys: 29.9 s, total: 41min 14s\n",
      "Wall time: 6min 30s\n"
     ]
    }
   ],
   "source": [
    "%%time\n",
    "callback = tf.keras.callbacks.EarlyStopping(monitor='val_accuracy', patience=3)\n",
    "history = model.fit(X_train, y_train, validation_data=(X_validation, y_validation), batch_size=32, epochs=30,\n",
    "                  callbacks = [callback])"
   ]
  },
  {
   "cell_type": "code",
   "execution_count": 28,
   "metadata": {},
   "outputs": [
    {
     "name": "stdout",
     "output_type": "stream",
     "text": [
      "Test Accuracy:  0.9319444298744202\n"
     ]
    }
   ],
   "source": [
    "test_loss, test_acc = model.evaluate(X_test, y_test, verbose=0)\n",
    "print(\"Test Accuracy: \",test_acc)"
   ]
  },
  {
   "cell_type": "code",
   "execution_count": 29,
   "metadata": {},
   "outputs": [
    {
     "data": {
      "image/png": "[encoded data removed]",
      "text/plain": [
       "<Figure size 432x288 with 1 Axes>"
      ]
     },
     "metadata": {
      "needs_background": "light"
     },
     "output_type": "display_data"
    }
   ],
   "source": [
    "# Plot history: MAE\n",
    "plt.plot(history.history['accuracy'], label='Accuracy (training data)')\n",
    "plt.plot(history.history['val_accuracy'], label='Accuracy (validation data)')\n",
    "plt.title('Acccuracy')\n",
    "plt.ylabel('Acccuracy value')\n",
    "plt.xlabel('No. epoch')\n",
    "plt.legend()\n",
    "plt.show()"
   ]
  },
  {
   "cell_type": "code",
   "execution_count": 30,
   "metadata": {},
   "outputs": [],
   "source": [
    "y_pred = model.predict(X_test)\n",
    "y_pred = np.argmax(y_pred, axis=1)"
   ]
  },
  {
   "cell_type": "code",
   "execution_count": 31,
   "metadata": {},
   "outputs": [
    {
     "data": {
      "image/png": "[encoded data removed]",
      "text/plain": [
       "<Figure size 432x288 with 1 Axes>"
      ]
     },
     "metadata": {
      "needs_background": "light"
     },
     "output_type": "display_data"
    }
   ],
   "source": [
    "\n",
    "from sklearn import metrics\n",
    "from sklearn.metrics import confusion_matrix\n",
    "import seaborn as sns\n",
    "\n",
    "classes = ['neutral','calm','happy','sad','angry','fearful','disgust','surprised']\n",
    "\n",
    "x = metrics.confusion_matrix(y_test, y_pred)\n",
    "\n",
    "sns.heatmap(x,square=True, annot=True, fmt='d', cbar=False,\n",
    "           xticklabels = classes,\n",
    "            yticklabels = classes\n",
    "           )\n",
    "plt.xlabel('True label')\n",
    "plt.ylabel('Predicted label')\n",
    "plt.title(\"Confusion Matrix\")\n",
    "plt.show()"
   ]
  },
  {
   "cell_type": "code",
   "execution_count": null,
   "metadata": {},
   "outputs": [],
   "source": []
  }
 ],
 "metadata": {
  "kernelspec": {
   "display_name": "Python 3",
   "language": "python",
   "name": "python3"
  },
  "language_info": {
   "codemirror_mode": {
    "name": "ipython",
    "version": 3
   },
   "file_extension": ".py",
   "mimetype": "text/x-python",
   "name": "python",
   "nbconvert_exporter": "python",
   "pygments_lexer": "ipython3",
   "version": "3.7.10"
  }
 },
 "nbformat": 4,
 "nbformat_minor": 4
}
