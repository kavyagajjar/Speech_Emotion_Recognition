{
 "cells": [
  {
   "cell_type": "code",
   "execution_count": 16,
   "metadata": {
    "tags": []
   },
   "outputs": [],
   "source": [
    "import numpy as np # linear algebra\n",
    "import pandas as pd # data processing, CSV file I/O (e.g. pd.read_csv)\n",
    "import librosa\n",
    "import os\n",
    "import IPython.display as ipd \n",
    "\n",
    "%matplotlib inline\n",
    "import matplotlib.pyplot as plt\n",
    "import librosa.display\n",
    "from IPython.display import Audio\n",
    "\n",
    "from sklearn.model_selection import train_test_split\n"
   ]
  },
  {
   "cell_type": "code",
   "execution_count": 17,
   "metadata": {
    "_cell_guid": "b1076dfc-b9ad-4769-8c92-a6c4dae69d19",
    "_uuid": "8f2839f25d086af736a60e9eeb907d3b93b6e0e5",
    "tags": []
   },
   "outputs": [
    {
     "data": {
      "text/html": [
       "<div>\n",
       "<style scoped>\n",
       "    .dataframe tbody tr th:only-of-type {\n",
       "        vertical-align: middle;\n",
       "    }\n",
       "\n",
       "    .dataframe tbody tr th {\n",
       "        vertical-align: top;\n",
       "    }\n",
       "\n",
       "    .dataframe thead th {\n",
       "        text-align: right;\n",
       "    }\n",
       "</style>\n",
       "<table border=\"1\" class=\"dataframe\">\n",
       "  <thead>\n",
       "    <tr style=\"text-align: right;\">\n",
       "      <th></th>\n",
       "      <th>Emotion</th>\n",
       "      <th>Emotion_intensity</th>\n",
       "      <th>Actor_no</th>\n",
       "      <th>File</th>\n",
       "    </tr>\n",
       "  </thead>\n",
       "  <tbody>\n",
       "    <tr>\n",
       "      <th>0</th>\n",
       "      <td>07</td>\n",
       "      <td>02</td>\n",
       "      <td>16</td>\n",
       "      <td>../project/data/Actor_16/03-01-07-02-02-01-16.wav</td>\n",
       "    </tr>\n",
       "    <tr>\n",
       "      <th>1</th>\n",
       "      <td>08</td>\n",
       "      <td>01</td>\n",
       "      <td>16</td>\n",
       "      <td>../project/data/Actor_16/03-01-08-01-02-02-16.wav</td>\n",
       "    </tr>\n",
       "    <tr>\n",
       "      <th>2</th>\n",
       "      <td>06</td>\n",
       "      <td>01</td>\n",
       "      <td>16</td>\n",
       "      <td>../project/data/Actor_16/03-01-06-01-01-02-16.wav</td>\n",
       "    </tr>\n",
       "    <tr>\n",
       "      <th>3</th>\n",
       "      <td>03</td>\n",
       "      <td>02</td>\n",
       "      <td>16</td>\n",
       "      <td>../project/data/Actor_16/03-01-03-02-02-01-16.wav</td>\n",
       "    </tr>\n",
       "    <tr>\n",
       "      <th>4</th>\n",
       "      <td>02</td>\n",
       "      <td>01</td>\n",
       "      <td>16</td>\n",
       "      <td>../project/data/Actor_16/03-01-02-01-01-01-16.wav</td>\n",
       "    </tr>\n",
       "  </tbody>\n",
       "</table>\n",
       "</div>"
      ],
      "text/plain": [
       "  Emotion Emotion_intensity Actor_no  \\\n",
       "0      07                02       16   \n",
       "1      08                01       16   \n",
       "2      06                01       16   \n",
       "3      03                02       16   \n",
       "4      02                01       16   \n",
       "\n",
       "                                                File  \n",
       "0  ../project/data/Actor_16/03-01-07-02-02-01-16.wav  \n",
       "1  ../project/data/Actor_16/03-01-08-01-02-02-16.wav  \n",
       "2  ../project/data/Actor_16/03-01-06-01-01-02-16.wav  \n",
       "3  ../project/data/Actor_16/03-01-03-02-02-01-16.wav  \n",
       "4  ../project/data/Actor_16/03-01-02-01-01-01-16.wav  "
      ]
     },
     "execution_count": 17,
     "metadata": {},
     "output_type": "execute_result"
    }
   ],
   "source": [
    "data = pd.DataFrame(columns = ['Emotion','Emotion_intensity','Actor_no','File'])\n",
    "for dirname, _, filenames in os.walk('../project/data'):\n",
    "    for filename in filenames:\n",
    "        data = data.append({'Emotion':filename[6:8],'Emotion_intensity': filename[9:11], 'Actor_no':filename[-6:-4]\n",
    "                            ,'File':os.path.join(dirname, filename)}, ignore_index= True)\n",
    "\n",
    "data.head()"
   ]
  },
  {
   "cell_type": "code",
   "execution_count": 18,
   "metadata": {
    "tags": []
   },
   "outputs": [],
   "source": [
    "# 01 = neutral, 02 = calm, 03 = happy, 04 = sad, 05 = angry, 06 = fearful, 07 = disgust, 08 = surprised\n",
    "def convert_labels(x):\n",
    "    if x == '01':\n",
    "        return 'neutral'\n",
    "    elif x == '02':\n",
    "        return 'calm'\n",
    "    elif x == '03':\n",
    "        return 'happy'\n",
    "    elif x == '04':\n",
    "        return 'sad'\n",
    "    elif x == '05':\n",
    "        return 'angry'\n",
    "    elif x == '06':\n",
    "        return 'fearful'\n",
    "    elif x == '07':\n",
    "        return 'disgust'\n",
    "    elif x == '08':\n",
    "        return 'surprised'\n",
    "    \n",
    "def convert_emotion_intensity(x):\n",
    "    if x == '01':\n",
    "        return 'Normal'\n",
    "    elif x == '02':\n",
    "        return 'Strong'\n",
    "\n",
    "data['Emotion_intensity'] = data.apply(lambda x: convert_emotion_intensity(x['Emotion_intensity']), axis =1)    \n",
    "data['Emotion'] = data.apply(lambda x: convert_labels(x['Emotion']), axis = 1)"
   ]
  },
  {
   "cell_type": "code",
   "execution_count": 19,
   "metadata": {
    "tags": []
   },
   "outputs": [],
   "source": [
    "def gender(x):\n",
    "    x = int(x)\n",
    "    if x %2 ==0:\n",
    "        return 'Female'\n",
    "    else:\n",
    "        return 'Male'\n",
    "    \n",
    "data['Gender'] = data.apply(lambda x: gender(x['Actor_no']), axis =1)"
   ]
  },
  {
   "cell_type": "code",
   "execution_count": 20,
   "metadata": {
    "tags": []
   },
   "outputs": [
    {
     "data": {
      "text/html": [
       "<div>\n",
       "<style scoped>\n",
       "    .dataframe tbody tr th:only-of-type {\n",
       "        vertical-align: middle;\n",
       "    }\n",
       "\n",
       "    .dataframe tbody tr th {\n",
       "        vertical-align: top;\n",
       "    }\n",
       "\n",
       "    .dataframe thead th {\n",
       "        text-align: right;\n",
       "    }\n",
       "</style>\n",
       "<table border=\"1\" class=\"dataframe\">\n",
       "  <thead>\n",
       "    <tr style=\"text-align: right;\">\n",
       "      <th></th>\n",
       "      <th>Emotion</th>\n",
       "      <th>Emotion_intensity</th>\n",
       "      <th>Actor_no</th>\n",
       "      <th>File</th>\n",
       "      <th>Gender</th>\n",
       "    </tr>\n",
       "  </thead>\n",
       "  <tbody>\n",
       "    <tr>\n",
       "      <th>0</th>\n",
       "      <td>disgust</td>\n",
       "      <td>Strong</td>\n",
       "      <td>16</td>\n",
       "      <td>../project/data/Actor_16/03-01-07-02-02-01-16.wav</td>\n",
       "      <td>Female</td>\n",
       "    </tr>\n",
       "    <tr>\n",
       "      <th>1</th>\n",
       "      <td>surprised</td>\n",
       "      <td>Normal</td>\n",
       "      <td>16</td>\n",
       "      <td>../project/data/Actor_16/03-01-08-01-02-02-16.wav</td>\n",
       "      <td>Female</td>\n",
       "    </tr>\n",
       "    <tr>\n",
       "      <th>2</th>\n",
       "      <td>fearful</td>\n",
       "      <td>Normal</td>\n",
       "      <td>16</td>\n",
       "      <td>../project/data/Actor_16/03-01-06-01-01-02-16.wav</td>\n",
       "      <td>Female</td>\n",
       "    </tr>\n",
       "    <tr>\n",
       "      <th>3</th>\n",
       "      <td>happy</td>\n",
       "      <td>Strong</td>\n",
       "      <td>16</td>\n",
       "      <td>../project/data/Actor_16/03-01-03-02-02-01-16.wav</td>\n",
       "      <td>Female</td>\n",
       "    </tr>\n",
       "    <tr>\n",
       "      <th>4</th>\n",
       "      <td>calm</td>\n",
       "      <td>Normal</td>\n",
       "      <td>16</td>\n",
       "      <td>../project/data/Actor_16/03-01-02-01-01-01-16.wav</td>\n",
       "      <td>Female</td>\n",
       "    </tr>\n",
       "  </tbody>\n",
       "</table>\n",
       "</div>"
      ],
      "text/plain": [
       "     Emotion Emotion_intensity Actor_no  \\\n",
       "0    disgust            Strong       16   \n",
       "1  surprised            Normal       16   \n",
       "2    fearful            Normal       16   \n",
       "3      happy            Strong       16   \n",
       "4       calm            Normal       16   \n",
       "\n",
       "                                                File  Gender  \n",
       "0  ../project/data/Actor_16/03-01-07-02-02-01-16.wav  Female  \n",
       "1  ../project/data/Actor_16/03-01-08-01-02-02-16.wav  Female  \n",
       "2  ../project/data/Actor_16/03-01-06-01-01-02-16.wav  Female  \n",
       "3  ../project/data/Actor_16/03-01-03-02-02-01-16.wav  Female  \n",
       "4  ../project/data/Actor_16/03-01-02-01-01-01-16.wav  Female  "
      ]
     },
     "execution_count": 20,
     "metadata": {},
     "output_type": "execute_result"
    }
   ],
   "source": [
    "data.head()"
   ]
  },
  {
   "cell_type": "code",
   "execution_count": 21,
   "metadata": {
    "tags": []
   },
   "outputs": [
    {
     "data": {
      "text/plain": [
       "surprised    384\n",
       "sad          384\n",
       "calm         384\n",
       "happy        384\n",
       "disgust      384\n",
       "fearful      384\n",
       "angry        384\n",
       "neutral      192\n",
       "Name: Emotion, dtype: int64"
      ]
     },
     "execution_count": 21,
     "metadata": {},
     "output_type": "execute_result"
    }
   ],
   "source": [
    "data.Emotion.value_counts()"
   ]
  },
  {
   "cell_type": "code",
   "execution_count": 22,
   "metadata": {
    "tags": []
   },
   "outputs": [
    {
     "data": {
      "text/plain": [
       "Normal    1536\n",
       "Strong    1344\n",
       "Name: Emotion_intensity, dtype: int64"
      ]
     },
     "execution_count": 22,
     "metadata": {},
     "output_type": "execute_result"
    }
   ],
   "source": [
    "data.Emotion_intensity.value_counts()"
   ]
  },
  {
   "cell_type": "code",
   "execution_count": 23,
   "metadata": {
    "tags": []
   },
   "outputs": [
    {
     "data": {
      "text/plain": [
       "Male      1440\n",
       "Female    1440\n",
       "Name: Gender, dtype: int64"
      ]
     },
     "execution_count": 23,
     "metadata": {},
     "output_type": "execute_result"
    }
   ],
   "source": [
    "data.Gender.value_counts()"
   ]
  },
  {
   "cell_type": "code",
   "execution_count": 24,
   "metadata": {},
   "outputs": [],
   "source": [
    "import numpy as np\n",
    "import pandas as pd\n",
    "import matplotlib.pyplot as plt\n",
    "import seaborn as sns\n",
    "\n",
    "import os, sys, re, pickle, glob\n",
    "import urllib.request\n",
    "import zipfile\n",
    "\n",
    "from sklearn import metrics\n",
    "from sklearn.metrics import confusion_matrix\n",
    "from sklearn.metrics import classification_report\n",
    "from sklearn.model_selection import GridSearchCV\n",
    "\n",
    "#from IPython.display import Audio\n",
    "import IPython.display as ipd\n",
    "from tqdm import tqdm\n",
    "import librosa\n",
    "\n",
    "import tensorflow as tf\n",
    "from tensorflow import keras\n",
    "from tensorflow.keras import layers\n",
    "\n",
    "from keras.models import Sequential\n"
   ]
  },
  {
   "cell_type": "code",
   "execution_count": 25,
   "metadata": {},
   "outputs": [],
   "source": [
    "def noise(data):\n",
    "    noise_amp = 0.035*np.random.uniform()*np.amax(data)\n",
    "    data = data + noise_amp*np.random.normal(size=data.shape[0])\n",
    "    return data\n",
    "# STRETCH\n",
    "def stretch(data, rate=0.8):\n",
    "    return librosa.effects.time_stretch(data, rate)\n",
    "# SHIFT\n",
    "def shift(data):\n",
    "    shift_range = int(np.random.uniform(low=-5, high = 5)*1000)\n",
    "    return np.roll(data, shift_range)\n",
    "# PITCH\n",
    "def pitch(data, sampling_rate, pitch_factor=0.7):\n",
    "    return librosa.effects.pitch_shift(data, sampling_rate, pitch_factor)"
   ]
  },
  {
   "cell_type": "code",
   "execution_count": 26,
   "metadata": {},
   "outputs": [],
   "source": [
    "def get_features(audio_data, sr):\n",
    "    onset = np.mean(librosa.onset.onset_detect(audio_data,sr))\n",
    "    mfccs = np.mean(librosa.feature.mfcc(audio_data, sr=sr))\n",
    "    zcr = np.mean(librosa.feature.zero_crossing_rate(audio_data))\n",
    "    spc = np.mean(librosa.feature.spectral_centroid(audio_data, sr))\n",
    "    spr = np.mean(librosa.feature.spectral_rolloff(audio_data, sr))\n",
    "    rms = np.mean(librosa.feature.rms(audio_data, sr))\n",
    "    \n",
    "    return [onset, mfccs, zcr, spc, spr, rms]"
   ]
  },
  {
   "cell_type": "code",
   "execution_count": 27,
   "metadata": {},
   "outputs": [
    {
     "name": "stdout",
     "output_type": "stream",
     "text": [
      "0\n",
      "100\n",
      "200\n",
      "300\n",
      "400\n",
      "500\n",
      "600\n",
      "700\n",
      "800\n",
      "900\n",
      "1000\n",
      "1100\n",
      "1200\n",
      "1300\n",
      "1400\n",
      "1500\n",
      "1600\n",
      "1700\n",
      "1800\n",
      "1900\n",
      "2000\n",
      "2100\n",
      "2200\n",
      "2300\n",
      "2400\n",
      "2500\n",
      "2600\n",
      "2700\n",
      "2800\n",
      "CPU times: user 1h 15min 16s, sys: 1h 25min 17s, total: 2h 40min 33s\n",
      "Wall time: 44min 9s\n"
     ]
    }
   ],
   "source": [
    "%%time\n",
    "df = pd.DataFrame(columns =['Onset','MFCC', 'ZCR','SPC','SPR','RMS','Emotion'])\n",
    "for i in range(len(data)):\n",
    "    audio_data, sr = librosa.load(data.File[i])\n",
    "    \n",
    "    features = get_features(audio_data, sr)\n",
    "    df = df.append({'Onset': features[0],'MFCC': features[1], 'ZCR': features[2],'SPC': features[3],'SPR':features[4]\n",
    "                    ,'RMS': features[5],'Emotion':data['Emotion'][i]}\n",
    "                    ,ignore_index=True)\n",
    "    \n",
    "    new = noise(audio_data)\n",
    "    features = get_features(new, sr)\n",
    "    df = df.append({'Onset': features[0],'MFCC': features[1], 'ZCR': features[2],'SPC': features[3],'SPR':features[4]\n",
    "                    ,'RMS': features[5],'Emotion':data['Emotion'][i]}\n",
    "                    ,ignore_index=True)\n",
    "    new = stretch(audio_data)\n",
    "    features = get_features(new, sr)\n",
    "    df = df.append({'Onset': features[0],'MFCC': features[1], 'ZCR': features[2],'SPC': features[3],'SPR':features[4]\n",
    "                    ,'RMS': features[5],'Emotion':data['Emotion'][i]}\n",
    "                    ,ignore_index=True)\n",
    "    new = shift(audio_data)\n",
    "    features = get_features(new, sr)\n",
    "    df = df.append({'Onset': features[0],'MFCC': features[1], 'ZCR': features[2],'SPC': features[3],'SPR':features[4]\n",
    "                    ,'RMS': features[5],'Emotion':data['Emotion'][i]}\n",
    "                    ,ignore_index=True)\n",
    "    new = pitch(audio_data, sr)\n",
    "    features = get_features(new, sr)\n",
    "    df = df.append({'Onset': features[0],'MFCC': features[1], 'ZCR': features[2],'SPC': features[3],'SPR':features[4]\n",
    "                    ,'RMS': features[5],'Emotion':data['Emotion'][i]}\n",
    "                    ,ignore_index=True)\n",
    "    if i%100 == 0:\n",
    "        print(i)"
   ]
  },
  {
   "cell_type": "code",
   "execution_count": 28,
   "metadata": {},
   "outputs": [
    {
     "data": {
      "text/plain": [
       "(14400, 7)"
      ]
     },
     "execution_count": 28,
     "metadata": {},
     "output_type": "execute_result"
    }
   ],
   "source": [
    "df.shape"
   ]
  },
  {
   "cell_type": "code",
   "execution_count": 29,
   "metadata": {},
   "outputs": [],
   "source": [
    "X = df.iloc[:,:-1]\n",
    "y = df.iloc[:, -1]"
   ]
  },
  {
   "cell_type": "code",
   "execution_count": 30,
   "metadata": {},
   "outputs": [],
   "source": [
    "X_train, X_test, y_train, y_test = train_test_split(X,y, test_size=0.1, random_state =42)\n",
    "X_train, X_val, y_train, y_val = train_test_split(X_train, y_train, test_size=0.2, random_state =42)"
   ]
  },
  {
   "cell_type": "code",
   "execution_count": 31,
   "metadata": {
    "tags": []
   },
   "outputs": [],
   "source": [
    "# %%time\n",
    "# from sklearn import svm\n",
    "\n",
    "# parameters = {\n",
    "    \n",
    "#     'C': [ 2,2.5, 3],\n",
    "#     'gamma': [ 0.2, 0.3,0.1, 0.01,0.001,0.02, 'scale'],\n",
    "#     'kernel': ['rbf', 'linear', 'sigmoid'],\n",
    "#     'class_weight': ['balanced']\n",
    "\n",
    "# }\n",
    "# grid_model = svm.SVC()\n",
    "# grid_svc = GridSearchCV(grid_model, parameters, n_jobs=-1)\n",
    "\n",
    "# print(\"Grid Search Done\")\n",
    "# grid_svc.fit(X_train,y_train)\n",
    "\n",
    "# print(\"fit\")\n",
    "# yt_p = grid_svc.predict(X_train)\n",
    "# yv_p = grid_svc.predict(X_val)\n",
    "\n",
    "# print('Training Accuracy', np.mean(yt_p==y_train))\n",
    "# print('Validation  Accuracy', np.mean(yv_p==y_val))\n",
    "\n",
    "# #Scores and best model\n",
    "# print (grid_svc.best_score_)\n",
    "# print (grid_svc.best_params_)"
   ]
  },
  {
   "cell_type": "code",
   "execution_count": 44,
   "metadata": {},
   "outputs": [
    {
     "name": "stdout",
     "output_type": "stream",
     "text": [
      "Training Accuracy 0.9974922839506173\n",
      "Validation  Accuracy 0.6030092592592593\n"
     ]
    }
   ],
   "source": [
    "#Best Model\n",
    "from sklearn import svm\n",
    "model  = svm.SVC(C=2.5, gamma=0.01, kernel='rbf', class_weight='balanced')\n",
    "model.fit(X_train,y_train)\n",
    "\n",
    "yt_p = model.predict(X_train)\n",
    "yv_p = model.predict(X_val)\n",
    "\n",
    "print('Training Accuracy', np.mean(yt_p==y_train))\n",
    "print('Validation  Accuracy', np.mean(yv_p==y_val))"
   ]
  },
  {
   "cell_type": "code",
   "execution_count": 45,
   "metadata": {},
   "outputs": [
    {
     "name": "stdout",
     "output_type": "stream",
     "text": [
      "Testing Accuracy 0.6333333333333333\n"
     ]
    }
   ],
   "source": [
    "pred = model.predict(X_test)\n",
    "\n",
    "print('Testing Accuracy', np.mean(pred==y_test))"
   ]
  },
  {
   "cell_type": "code",
   "execution_count": 47,
   "metadata": {},
   "outputs": [
    {
     "data": {
      "image/png": "[encoded data removed]",
      "text/plain": [
       "<Figure size 432x288 with 1 Axes>"
      ]
     },
     "metadata": {
      "needs_background": "light"
     },
     "output_type": "display_data"
    }
   ],
   "source": [
    "#Confusion Matrix\n",
    "classes = ['neutral','calm','happy','sad','angry','fearful','disgust','surprised']\n",
    "\n",
    "x = metrics.confusion_matrix(y_test, pred, labels = classes)\n",
    "y = metrics.confusion_matrix(y_train, yt_p, labels = classes)\n",
    "\n",
    "sns.heatmap(x,square=True, annot=True, fmt='d', cbar=False,\n",
    "           xticklabels = classes,\n",
    "            yticklabels = classes\n",
    "           )\n",
    "plt.xlabel('True label')\n",
    "plt.ylabel('Predicted label')\n",
    "plt.title(\"Confusion Matrix\")\n",
    "plt.show()"
   ]
  },
  {
   "cell_type": "markdown",
   "metadata": {},
   "source": [
    "### Naive"
   ]
  },
  {
   "cell_type": "code",
   "execution_count": 35,
   "metadata": {},
   "outputs": [
    {
     "name": "stdout",
     "output_type": "stream",
     "text": [
      "Training Accuracy 0.23350694444444445\n",
      "Validation  Accuracy 0.23726851851851852\n"
     ]
    }
   ],
   "source": [
    "from sklearn.naive_bayes import GaussianNB\n",
    "gnb = GaussianNB()\n",
    "gnb.fit(X_train,y_train)\n",
    "\n",
    "yt_p = gnb.predict(X_train)\n",
    "yv_p = gnb.predict(X_val)\n",
    "\n",
    "print('Training Accuracy', np.mean(yt_p==y_train))\n",
    "print('Validation  Accuracy', np.mean(yv_p==y_val))"
   ]
  },
  {
   "cell_type": "code",
   "execution_count": 36,
   "metadata": {},
   "outputs": [
    {
     "name": "stdout",
     "output_type": "stream",
     "text": [
      "Testing Accuracy 0.2263888888888889\n"
     ]
    }
   ],
   "source": [
    "pred = gnb.predict(X_test)\n",
    "\n",
    "print('Testing Accuracy', np.mean(pred==y_test))"
   ]
  },
  {
   "cell_type": "code",
   "execution_count": 39,
   "metadata": {},
   "outputs": [
    {
     "data": {
      "image/png": "[encoded data removed]",
      "text/plain": [
       "<Figure size 432x288 with 1 Axes>"
      ]
     },
     "metadata": {
      "needs_background": "light"
     },
     "output_type": "display_data"
    }
   ],
   "source": [
    "classes = ['neutral','calm','happy','sad','angry','fearful','disgust','surprised']\n",
    "\n",
    "x = metrics.confusion_matrix(y_test, pred, labels = classes)\n",
    "y = metrics.confusion_matrix(y_train, yt_p, labels = classes)\n",
    "\n",
    "sns.heatmap(x,square=True, annot=True, fmt='d', cbar=False,\n",
    "           xticklabels = classes,\n",
    "            yticklabels = classes\n",
    "           )\n",
    "plt.xlabel('True label')\n",
    "plt.ylabel('Predicted label')\n",
    "plt.title(\"Confusion Matrix\")\n",
    "plt.show()"
   ]
  },
  {
   "cell_type": "code",
   "execution_count": 43,
   "metadata": {},
   "outputs": [
    {
     "name": "stdout",
     "output_type": "stream",
     "text": [
      "              precision    recall  f1-score   support\n",
      "\n",
      "     neutral       0.33      0.34      0.34       200\n",
      "        calm       0.20      0.51      0.29       196\n",
      "       happy       0.25      0.28      0.27       186\n",
      "         sad       0.21      0.11      0.15       201\n",
      "       angry       0.20      0.05      0.08       179\n",
      "     fearful       0.00      0.00      0.00       101\n",
      "     disgust       0.22      0.02      0.04       192\n",
      "   surprised       0.19      0.38      0.26       185\n",
      "\n",
      "    accuracy                           0.23      1440\n",
      "   macro avg       0.20      0.21      0.18      1440\n",
      "weighted avg       0.22      0.23      0.19      1440\n",
      "\n"
     ]
    }
   ],
   "source": [
    "from sklearn.metrics import classification_report\n",
    "print(classification_report(y_test, pred, target_names=classes))"
   ]
  },
  {
   "cell_type": "code",
   "execution_count": null,
   "metadata": {},
   "outputs": [],
   "source": []
  }
 ],
 "metadata": {
  "kernelspec": {
   "display_name": "Python 3",
   "language": "python",
   "name": "python3"
  },
  "language_info": {
   "codemirror_mode": {
    "name": "ipython",
    "version": 3
   },
   "file_extension": ".py",
   "mimetype": "text/x-python",
   "name": "python",
   "nbconvert_exporter": "python",
   "pygments_lexer": "ipython3",
   "version": "3.7.10"
  }
 },
 "nbformat": 4,
 "nbformat_minor": 4
}
